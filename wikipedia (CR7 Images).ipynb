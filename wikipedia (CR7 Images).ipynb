{
 "cells": [
  {
   "cell_type": "markdown",
   "id": "08a970f9",
   "metadata": {},
   "source": [
    "# Web Scraping with Python"
   ]
  },
  {
   "cell_type": "markdown",
   "id": "0d95fc8e",
   "metadata": {},
   "source": [
    "In this project i have used requests and BeautifulSoup python libraries to Download CR7 images from this [*wikipedia*](https://en.wikipedia.org/wiki/Cristiano_Ronaldo) link."
   ]
  },
  {
   "cell_type": "markdown",
   "id": "89541138",
   "metadata": {},
   "source": [
    "## Step 1: import libraries"
   ]
  },
  {
   "cell_type": "code",
   "execution_count": null,
   "id": "5782d8af",
   "metadata": {},
   "outputs": [],
   "source": [
    "import requests\n",
    "from bs4 import BeautifulSoup"
   ]
  },
  {
   "cell_type": "markdown",
   "id": "f580666c",
   "metadata": {},
   "source": [
    "## Step 2: retrieve data"
   ]
  },
  {
   "cell_type": "code",
   "execution_count": null,
   "id": "5b29af85",
   "metadata": {},
   "outputs": [],
   "source": [
    "url = \"https://en.wikipedia.org/wiki/Cristiano_Ronaldo\"\n",
    "data = requests.get(url, verify=False).text\n",
    "soup = BeautifulSoup(data, features=\"html.parser\")"
   ]
  },
  {
   "cell_type": "markdown",
   "id": "b374bd4d",
   "metadata": {},
   "source": [
    "## Step 3: Find images in html "
   ]
  },
  {
   "cell_type": "code",
   "execution_count": null,
   "id": "c05d1937",
   "metadata": {},
   "outputs": [],
   "source": [
    "img_list = list()\n",
    "for link in soup.find_all('img'):  # in html image is represented by the tag <img>\n",
    "    Img_data = link.get('src')\n",
    "    if \"ronaldo\" in Img_data.lower():\n",
    "        img_list.append(Img_data)"
   ]
  },
  {
   "cell_type": "markdown",
   "id": "b62e58d6",
   "metadata": {},
   "source": [
    "## Step 4: saving images in your PC"
   ]
  },
  {
   "cell_type": "code",
   "execution_count": null,
   "id": "eaecd40f",
   "metadata": {},
   "outputs": [],
   "source": [
    "for image_index in range(len(img_list)):\n",
    "    with open(f\"{image_index}.png\", \"wb\") as output:\n",
    "        try:\n",
    "            res = requests.get(\"http:\" + img_list[image_index])\n",
    "            output.write(res.content)\n",
    "        except:\n",
    "            print(\"sth is wrong!!!\")"
   ]
  },
  {
   "cell_type": "markdown",
   "id": "d3f51170",
   "metadata": {},
   "source": [
    "****"
   ]
  },
  {
   "cell_type": "markdown",
   "id": "adee97ba",
   "metadata": {},
   "source": [
    "### *Amir Mohammad Ghiasi*\n",
    "a.ghiasi1377@gmail.com"
   ]
  }
 ],
 "metadata": {
  "kernelspec": {
   "display_name": "Python 3 (ipykernel)",
   "language": "python",
   "name": "python3"
  },
  "language_info": {
   "codemirror_mode": {
    "name": "ipython",
    "version": 3
   },
   "file_extension": ".py",
   "mimetype": "text/x-python",
   "name": "python",
   "nbconvert_exporter": "python",
   "pygments_lexer": "ipython3",
   "version": "3.11.4"
  }
 },
 "nbformat": 4,
 "nbformat_minor": 5
}
